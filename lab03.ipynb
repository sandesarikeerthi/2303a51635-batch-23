{
  "nbformat": 4,
  "nbformat_minor": 0,
  "metadata": {
    "colab": {
      "provenance": [],
      "authorship_tag": "ABX9TyMKNP7Qe6cr1R+qXn42puk3",
      "include_colab_link": true
    },
    "kernelspec": {
      "name": "python3",
      "display_name": "Python 3"
    },
    "language_info": {
      "name": "python"
    }
  },
  "cells": [
    {
      "cell_type": "markdown",
      "metadata": {
        "id": "view-in-github",
        "colab_type": "text"
      },
      "source": [
        "<a href=\"https://colab.research.google.com/github/sandesarikeerthi/2303a51635-batch-23/blob/main/lab03.ipynb\" target=\"_parent\"><img src=\"https://colab.research.google.com/assets/colab-badge.svg\" alt=\"Open In Colab\"/></a>"
      ]
    },
    {
      "cell_type": "code",
      "execution_count": 1,
      "metadata": {
        "colab": {
          "base_uri": "https://localhost:8080/"
        },
        "id": "CDzoYh9jZC0-",
        "outputId": "38d2338c-6fec-408c-cc3e-ab4e8b9886d1"
      },
      "outputs": [
        {
          "output_type": "stream",
          "name": "stdout",
          "text": [
            "Test Scores (4x4 array):\n",
            " [[82 81 92 77]\n",
            " [62 95 61 66]\n",
            " [74 72 72 62]\n",
            " [61 94 73 50]]\n",
            "\n",
            "Row-wise Means: [83.  71.  70.  69.5]\n",
            "Column-wise Means: [69.75 85.5  74.5  63.75]\n",
            "\n",
            "Standard Deviation: 12.638606529202498\n",
            "Variance: 159.734375\n",
            "\n",
            "Global Max: 95 at index (np.int64(1), np.int64(1))\n",
            "Global Min: 50 at index (np.int64(3), np.int64(3))\n",
            "\n",
            "Summary:\n",
            "Row means: [83.  71.  70.  69.5]\n",
            "Column means: [69.75 85.5  74.5  63.75]\n",
            "Std Dev: 12.64, Variance: 159.73\n",
            "Max value 95 at (np.int64(1), np.int64(1)), Min value 50 at (np.int64(3), np.int64(3))\n"
          ]
        }
      ],
      "source": [
        "import numpy as np\n",
        "# Generate 4x4 array with random test scores (0-100)\n",
        "scores = np.random.randint(50, 100, size=(4, 4))\n",
        "print(\"Test Scores (4x4 array):\\n\", scores)\n",
        "# Row-wise and Column-wise Means\n",
        "row_means = np.mean(scores, axis=1)\n",
        "col_means = np.mean(scores, axis=0)\n",
        "print(\"\\nRow-wise Means:\", row_means)\n",
        "print(\"Column-wise Means:\", col_means)\n",
        "# Standard Deviation and Variance\n",
        "std_dev = np.std(scores)\n",
        "variance = np.var(scores)\n",
        "print(\"\\nStandard Deviation:\", std_dev)\n",
        "print(\"Variance:\", variance)\n",
        "# Global max, min, and their indices\n",
        "global_max = np.max(scores)\n",
        "global_min = np.min(scores)\n",
        "max_index = np.unravel_index(np.argmax(scores), scores.shape)\n",
        "min_index = np.unravel_index(np.argmin(scores), scores.shape)\n",
        "print(\"\\nGlobal Max:\", global_max, \"at index\", max_index)\n",
        "print(\"Global Min:\", global_min, \"at index\", min_index)\n",
        "# Summary\n",
        "print(\"\\nSummary:\")\n",
        "print(f\"Row means: {row_means}\")\n",
        "print(f\"Column means: {col_means}\")\n",
        "print(f\"Std Dev: {std_dev:.2f}, Variance: {variance:.2f}\")\n",
        "print(f\"Max value {global_max} at {max_index}, Min value {global_min} at {min_index}\")"
      ]
    },
    {
      "cell_type": "code",
      "source": [],
      "metadata": {
        "id": "yxSLkp0BZTxK"
      },
      "execution_count": null,
      "outputs": []
    },
    {
      "cell_type": "code",
      "source": [
        "import numpy as np\n",
        "# Create a 3x3x3 RGB image array with pixel values 0–255\n",
        "image = np.random.randint(0, 256, size=(3, 3, 3))\n",
        "print(\"Original Image (3x3x3):\\n\", image)\n",
        "# Extract Red, Green, Blue channels\n",
        "red_channel = image[:, :, 0]\n",
        "green_channel = image[:, :, 1]\n",
        "blue_channel = image[:, :, 2]\n",
        "print(\"\\nRed Channel:\\n\", red_channel)\n",
        "print(\"Green Channel:\\n\", green_channel)\n",
        "print(\"Blue Channel:\\n\", blue_channel)\n",
        "# Average intensity per channel\n",
        "avg_red = np.mean(red_channel)\n",
        "avg_green = np.mean(green_channel)\n",
        "avg_blue = np.mean(blue_channel)\n",
        "print(\"\\nAverage Intensities:\")\n",
        "print(f\"Red: {avg_red:.2f}, Green: {avg_green:.2f}, Blue: {avg_blue:.2f}\")\n",
        "# Brighten image by adding 50 (clip at 255)\n",
        "brightened = np.clip(image + 50, 0, 255)\n",
        "print(\"\\nBrightened Image (clipped at 255):\\n\", brightened)"
      ],
      "metadata": {
        "colab": {
          "base_uri": "https://localhost:8080/"
        },
        "id": "44fNzLKNZak9",
        "outputId": "e1621744-75cd-4641-f05f-78edc6244cbd"
      },
      "execution_count": 2,
      "outputs": [
        {
          "output_type": "stream",
          "name": "stdout",
          "text": [
            "Original Image (3x3x3):\n",
            " [[[ 45  14 168]\n",
            "  [197 114 165]\n",
            "  [191 166 206]]\n",
            "\n",
            " [[181  85 152]\n",
            "  [  4  49 116]\n",
            "  [250 136 199]]\n",
            "\n",
            " [[ 99 254  27]\n",
            "  [132  34  27]\n",
            "  [101 161 126]]]\n",
            "\n",
            "Red Channel:\n",
            " [[ 45 197 191]\n",
            " [181   4 250]\n",
            " [ 99 132 101]]\n",
            "Green Channel:\n",
            " [[ 14 114 166]\n",
            " [ 85  49 136]\n",
            " [254  34 161]]\n",
            "Blue Channel:\n",
            " [[168 165 206]\n",
            " [152 116 199]\n",
            " [ 27  27 126]]\n",
            "\n",
            "Average Intensities:\n",
            "Red: 133.33, Green: 112.56, Blue: 131.78\n",
            "\n",
            "Brightened Image (clipped at 255):\n",
            " [[[ 95  64 218]\n",
            "  [247 164 215]\n",
            "  [241 216 255]]\n",
            "\n",
            " [[231 135 202]\n",
            "  [ 54  99 166]\n",
            "  [255 186 249]]\n",
            "\n",
            " [[149 255  77]\n",
            "  [182  84  77]\n",
            "  [151 211 176]]]\n"
          ]
        }
      ]
    }
  ]
}