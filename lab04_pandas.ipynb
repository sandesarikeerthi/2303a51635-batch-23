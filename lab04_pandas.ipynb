{
  "nbformat": 4,
  "nbformat_minor": 0,
  "metadata": {
    "colab": {
      "provenance": [],
      "authorship_tag": "ABX9TyPH1crbcEx34VzHZOq9PqTy",
      "include_colab_link": true
    },
    "kernelspec": {
      "name": "python3",
      "display_name": "Python 3"
    },
    "language_info": {
      "name": "python"
    }
  },
  "cells": [
    {
      "cell_type": "markdown",
      "metadata": {
        "id": "view-in-github",
        "colab_type": "text"
      },
      "source": [
        "<a href=\"https://colab.research.google.com/github/sandesarikeerthi/2303a51635-batch-23/blob/main/lab04_pandas.ipynb\" target=\"_parent\"><img src=\"https://colab.research.google.com/assets/colab-badge.svg\" alt=\"Open In Colab\"/></a>"
      ]
    },
    {
      "cell_type": "code",
      "execution_count": 1,
      "metadata": {
        "colab": {
          "base_uri": "https://localhost:8080/"
        },
        "id": "xSgVCamH6j5j",
        "outputId": "5be2b8b1-3a32-403d-ff8a-0ff180af088b"
      },
      "outputs": [
        {
          "output_type": "stream",
          "name": "stdout",
          "text": [
            "0    10\n",
            "1    20\n",
            "2    30\n",
            "3    40\n",
            "4    50\n",
            "dtype: int64\n"
          ]
        }
      ],
      "source": [
        "#pandas series\n",
        "import pandas as pd\n",
        "#creating a series from a list\n",
        "data=[10,20,30,40,50]\n",
        "series=pd.Series(data)\n",
        "print(series)"
      ]
    },
    {
      "cell_type": "code",
      "source": [
        "#Series with Custom Index\n",
        "import pandas as pd\n",
        "data = [10, 20, 30, 40, 50]\n",
        "index_labels = ['a', 'b', 'c', 'd', 'e']\n",
        "series = pd.Series(data,\n",
        "index=index_labels)\n",
        "print(series)"
      ],
      "metadata": {
        "colab": {
          "base_uri": "https://localhost:8080/"
        },
        "id": "27pyy3h-8WA7",
        "outputId": "3fe240d0-79ba-442b-c9bf-856877b8fe62"
      },
      "execution_count": 2,
      "outputs": [
        {
          "output_type": "stream",
          "name": "stdout",
          "text": [
            "a    10\n",
            "b    20\n",
            "c    30\n",
            "d    40\n",
            "e    50\n",
            "dtype: int64\n"
          ]
        }
      ]
    },
    {
      "cell_type": "code",
      "source": [
        "#Creating a DataFrame\n",
        "import pandas as pd\n",
        "# Creating a DataFrame from a dictionary\n",
        "data = {\n",
        "'Name': ['Alice', 'Bob', 'Charlie', 'David'],\n",
        "'Age': [25, 30, 35, 40],\n",
        "'City': ['Hyderabad', 'Delhi', 'Chennai', 'Mumbai']\n",
        "}\n",
        "df = pd.DataFrame(data)\n",
        "print(\"Pandas DataFrame:\")\n",
        "print(df)"
      ],
      "metadata": {
        "colab": {
          "base_uri": "https://localhost:8080/"
        },
        "id": "04AJDu5z80MD",
        "outputId": "947ee13b-1f52-4064-8115-c71850d24206"
      },
      "execution_count": 3,
      "outputs": [
        {
          "output_type": "stream",
          "name": "stdout",
          "text": [
            "Pandas DataFrame:\n",
            "      Name  Age       City\n",
            "0    Alice   25  Hyderabad\n",
            "1      Bob   30      Delhi\n",
            "2  Charlie   35    Chennai\n",
            "3    David   40     Mumbai\n"
          ]
        }
      ]
    },
    {
      "cell_type": "code",
      "source": [
        "#Basic DataFrame Operations\n",
        "# Access a single column\n",
        "print(df['Name'])\n",
        "# Access multiple columns\n",
        "print(df[['Name', 'City']])\n",
        "# Access rows using index\n",
        "print(df.iloc[1]) # row at index 1\n",
        "print(df.loc[2]) # row with label 2\n",
        "df['Salary'] = [40000, 50000, 60000, 70000]\n",
        "print(df)\n",
        "df = df.drop('City', axis=1)\n",
        "print(df)\n"
      ],
      "metadata": {
        "colab": {
          "base_uri": "https://localhost:8080/"
        },
        "id": "N6SQlrz29YlO",
        "outputId": "85fd8b18-5e3e-4f9a-9b3a-c7338123bf2a"
      },
      "execution_count": 4,
      "outputs": [
        {
          "output_type": "stream",
          "name": "stdout",
          "text": [
            "0      Alice\n",
            "1        Bob\n",
            "2    Charlie\n",
            "3      David\n",
            "Name: Name, dtype: object\n",
            "      Name       City\n",
            "0    Alice  Hyderabad\n",
            "1      Bob      Delhi\n",
            "2  Charlie    Chennai\n",
            "3    David     Mumbai\n",
            "Name      Bob\n",
            "Age        30\n",
            "City    Delhi\n",
            "Name: 1, dtype: object\n",
            "Name    Charlie\n",
            "Age          35\n",
            "City    Chennai\n",
            "Name: 2, dtype: object\n",
            "      Name  Age       City  Salary\n",
            "0    Alice   25  Hyderabad   40000\n",
            "1      Bob   30      Delhi   50000\n",
            "2  Charlie   35    Chennai   60000\n",
            "3    David   40     Mumbai   70000\n",
            "      Name  Age  Salary\n",
            "0    Alice   25   40000\n",
            "1      Bob   30   50000\n",
            "2  Charlie   35   60000\n",
            "3    David   40   70000\n"
          ]
        }
      ]
    },
    {
      "cell_type": "code",
      "source": [
        "# Select rows where Age > 30\n",
        "print(df[df['Age'] > 30])"
      ],
      "metadata": {
        "colab": {
          "base_uri": "https://localhost:8080/"
        },
        "id": "b1sLeCdT9_Ss",
        "outputId": "14caf137-1813-4406-b251-b96b9c32fd69"
      },
      "execution_count": 5,
      "outputs": [
        {
          "output_type": "stream",
          "name": "stdout",
          "text": [
            "      Name  Age  Salary\n",
            "2  Charlie   35   60000\n",
            "3    David   40   70000\n"
          ]
        }
      ]
    },
    {
      "cell_type": "code",
      "source": [
        "print(df['Age'].mean()) # Average age\n",
        "print(df['Age'].max()) # Maximum age\n",
        "print(df['Age'].min()) # Minimum age\n"
      ],
      "metadata": {
        "colab": {
          "base_uri": "https://localhost:8080/"
        },
        "id": "MSzv27PZ-Eae",
        "outputId": "03243696-ae4e-43f6-946b-7c5fc99e65d6"
      },
      "execution_count": 6,
      "outputs": [
        {
          "output_type": "stream",
          "name": "stdout",
          "text": [
            "32.5\n",
            "40\n",
            "25\n"
          ]
        }
      ]
    },
    {
      "cell_type": "code",
      "source": [
        "import pandas as pd\n",
        "# Create a DataFrame with student details\n",
        "student_data = {\n",
        "'Student_ID': [101, 102, 103, 104],\n",
        "'Name': ['Ravi', 'Neha', 'Kiran', 'Sita'],\n",
        "'Marks': [85, 90, 78, 92],\n",
        "'Department': ['CSE', 'ECE', 'MECH', 'CSE']\n",
        "}\n",
        "df = pd.DataFrame(student_data)\n",
        "# Display full DataFrame\n",
        "print(\"Student Data:\")\n",
        "print(df)"
      ],
      "metadata": {
        "colab": {
          "base_uri": "https://localhost:8080/"
        },
        "id": "g34kpTKc-IOd",
        "outputId": "25e7e3cc-2315-4bd7-e826-8526b592c062"
      },
      "execution_count": 7,
      "outputs": [
        {
          "output_type": "stream",
          "name": "stdout",
          "text": [
            "Student Data:\n",
            "   Student_ID   Name  Marks Department\n",
            "0         101   Ravi     85        CSE\n",
            "1         102   Neha     90        ECE\n",
            "2         103  Kiran     78       MECH\n",
            "3         104   Sita     92        CSE\n"
          ]
        }
      ]
    }
  ]
}