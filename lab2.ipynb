{
  "nbformat": 4,
  "nbformat_minor": 0,
  "metadata": {
    "colab": {
      "provenance": [],
      "authorship_tag": "ABX9TyPVXaZfMrNLA3XVVVDq6lUU",
      "include_colab_link": true
    },
    "kernelspec": {
      "name": "python3",
      "display_name": "Python 3"
    },
    "language_info": {
      "name": "python"
    }
  },
  "cells": [
    {
      "cell_type": "markdown",
      "metadata": {
        "id": "view-in-github",
        "colab_type": "text"
      },
      "source": [
        "<a href=\"https://colab.research.google.com/github/sandesarikeerthi/2303a51635-batch-23/blob/main/lab2.ipynb\" target=\"_parent\"><img src=\"https://colab.research.google.com/assets/colab-badge.svg\" alt=\"Open In Colab\"/></a>"
      ]
    },
    {
      "cell_type": "code",
      "execution_count": 1,
      "metadata": {
        "colab": {
          "base_uri": "https://localhost:8080/"
        },
        "id": "NwOuVu1kShZO",
        "outputId": "c425cd32-1f73-43fb-9420-27fd2fd9e6bc"
      },
      "outputs": [
        {
          "output_type": "stream",
          "name": "stdout",
          "text": [
            "Average Marks: [85.         74.         91.         60.33333333 81.66666667]\n",
            "Minimum Marks: [78 67 88 56 79]\n",
            "Maximum Marks: [92 81 95 65 84]\n",
            "Selected Students' Marks:\n",
            " [[67 74 81]\n",
            " [56 60 65]]\n",
            "Students scoring above 80:\n",
            " [[85 78 92]\n",
            " [67 74 81]\n",
            " [90 88 95]\n",
            " [82 79 84]]\n",
            "Subject-wise Performance:\n",
            " [[85 67 90 56 82]\n",
            " [78 74 88 60 79]\n",
            " [92 81 95 65 84]]\n"
          ]
        }
      ],
      "source": [
        "import numpy as np\n",
        "marks = np.array([\n",
        "    [85, 78, 92],\n",
        "    [67, 74, 81],\n",
        "    [90, 88, 95],\n",
        "    [56, 60, 65],\n",
        "    [82, 79, 84]\n",
        "])\n",
        "average_marks = np.mean(marks, axis=1)\n",
        "min_marks = np.min(marks, axis=1)\n",
        "max_marks = np.max(marks, axis=1)\n",
        "selected_students = marks[[1, 3], :]\n",
        "high_scorers = marks[np.any(marks > 80, axis=1)]\n",
        "subject_wise = marks.T\n",
        "print(\"Average Marks:\", average_marks)\n",
        "print(\"Minimum Marks:\", min_marks)\n",
        "print(\"Maximum Marks:\", max_marks)\n",
        "print(\"Selected Students' Marks:\\n\", selected_students)\n",
        "print(\"Students scoring above 80:\\n\", high_scorers)\n",
        "print(\"Subject-wise Performance:\\n\", subject_wise)"
      ]
    },
    {
      "cell_type": "code",
      "source": [
        "import pandas as pd\n",
        "data = {\n",
        "    'Name': ['sai', 'sabir', 'Chandu', 'priya', 'thrishala'],\n",
        "    'ID': [101, 102, 103, 104, 105],\n",
        "    'Department': ['HR', 'IT', 'Finance', 'IT', 'Marketing'],\n",
        "    'Salary': [48000, 52000, 61000, 45000, 70000]\n",
        "}\n",
        "df = pd.DataFrame(data)\n",
        "high_salary = df[df['Salary'] > 50000]\n",
        "sorted_df = df.sort_values(by='Salary', ascending=False)\n",
        "df['Bonus'] = df['Salary'] * 0.10\n",
        "total_expense = df['Salary'].sum() + df['Bonus'].sum()\n",
        "df.to_csv('employee_salary_bonus.csv', index=False)\n",
        "print(\"Filtered (Salary > 50,000):\\n\", high_salary)\n",
        "print(\"\\nSorted by Salary:\\n\", sorted_df)\n",
        "print(\"\\nDataFrame with Bonus:\\n\", df)\n",
        "print(\"\\nTotal Expense (Salary + Bonus):\", total_expense)"
      ],
      "metadata": {
        "colab": {
          "base_uri": "https://localhost:8080/"
        },
        "id": "QEKTw1vGUfEf",
        "outputId": "06a54502-e9f3-461f-f026-9a6abb78621e"
      },
      "execution_count": 2,
      "outputs": [
        {
          "output_type": "stream",
          "name": "stdout",
          "text": [
            "Filtered (Salary > 50,000):\n",
            "         Name   ID Department  Salary\n",
            "1      sabir  102         IT   52000\n",
            "2     Chandu  103    Finance   61000\n",
            "4  thrishala  105  Marketing   70000\n",
            "\n",
            "Sorted by Salary:\n",
            "         Name   ID Department  Salary\n",
            "4  thrishala  105  Marketing   70000\n",
            "2     Chandu  103    Finance   61000\n",
            "1      sabir  102         IT   52000\n",
            "0        sai  101         HR   48000\n",
            "3      priya  104         IT   45000\n",
            "\n",
            "DataFrame with Bonus:\n",
            "         Name   ID Department  Salary   Bonus\n",
            "0        sai  101         HR   48000  4800.0\n",
            "1      sabir  102         IT   52000  5200.0\n",
            "2     Chandu  103    Finance   61000  6100.0\n",
            "3      priya  104         IT   45000  4500.0\n",
            "4  thrishala  105  Marketing   70000  7000.0\n",
            "\n",
            "Total Expense (Salary + Bonus): 303600.0\n"
          ]
        }
      ]
    }
  ]
}