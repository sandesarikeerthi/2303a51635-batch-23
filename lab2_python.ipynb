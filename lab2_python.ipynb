{
  "nbformat": 4,
  "nbformat_minor": 0,
  "metadata": {
    "colab": {
      "provenance": [],
      "authorship_tag": "ABX9TyM54ltJOA4Em7966cRiwScr",
      "include_colab_link": true
    },
    "kernelspec": {
      "name": "python3",
      "display_name": "Python 3"
    },
    "language_info": {
      "name": "python"
    }
  },
  "cells": [
    {
      "cell_type": "markdown",
      "metadata": {
        "id": "view-in-github",
        "colab_type": "text"
      },
      "source": [
        "<a href=\"https://colab.research.google.com/github/sandesarikeerthi/2303a51635-batch-23/blob/main/lab2_python.ipynb\" target=\"_parent\"><img src=\"https://colab.research.google.com/assets/colab-badge.svg\" alt=\"Open In Colab\"/></a>"
      ]
    },
    {
      "cell_type": "code",
      "execution_count": 1,
      "metadata": {
        "colab": {
          "base_uri": "https://localhost:8080/"
        },
        "id": "BdHgyEoUIIEw",
        "outputId": "721e2e6e-3257-4a66-c983-30bb95a0db41"
      },
      "outputs": [
        {
          "output_type": "stream",
          "name": "stdout",
          "text": [
            "<class 'int'> 10\n",
            "<class 'int'> 99\n",
            "<class 'str'> cse\n",
            "[10, 20, 30, 40]\n",
            "found\n",
            "[10, 20, 30, 40, 50]\n",
            "1\n",
            "[10, 20, 25, 40, 50]\n",
            "[9, 16, 26, 45, 56, 92]\n",
            "[92, 56, 45, 26, 16, 9]\n",
            "244\n",
            "9\n",
            "92\n",
            "[[4, 5, 6], [7, 8, 9], [1, 2, 3]]\n"
          ]
        }
      ],
      "source": [
        "l=[10,99,\"cse\"]\n",
        "for i in l:\n",
        "    print(type(i),i)\n",
        "#list\n",
        "l=[10,20,30,40]\n",
        "print(l)\n",
        "if 20 in l:\n",
        "    print(\"found\")\n",
        "else:\n",
        "    print(\"notfound\")\n",
        "##\n",
        "l=[10,20,30,40]\n",
        "l.append(50)\n",
        "print(l)\n",
        "l.remove(30)\n",
        "print(1)\n",
        "l.insert(2,25)\n",
        "print(l)\n",
        "l.pop()\n",
        "###\n",
        "l=[9,26,92,56,45,16]\n",
        "l.sort()\n",
        "print(l)\n",
        "l.reverse()\n",
        "print(l)\n",
        "print(sum(l))\n",
        "print(min(l))\n",
        "print(max(l))\n",
        "####nestedlist\n",
        "l=[[4,5,6],\n",
        "   [7,8,9],\n",
        "   [1,2,3]]\n",
        "print(l)\n",
        "\n",
        ""
      ]
    },
    {
      "cell_type": "code",
      "source": [
        "## tuple\n",
        "t=(10,20,30,40)\n",
        "print(t)\n",
        "t=(10,20,30,10,20)\n",
        "print(t)\n",
        "t=(10,99.9,\"cse\")\n",
        "for i in t:\n",
        "    print(type(i),i)\n",
        "if 20 in t:\n",
        "    print(\"found\")\n",
        "else:\n",
        "    print(\"notfound\")\n",
        "##\n",
        "t=(1,2,3,2,3,2,4)\n",
        "print(t.count(2))\n",
        "print(t.index(4))\n",
        "##\n",
        "l=[10,20,30,40]\n",
        "mytuple=tuple(l)\n",
        "print(mytuple)\n"
      ],
      "metadata": {
        "colab": {
          "base_uri": "https://localhost:8080/"
        },
        "id": "tKtrvvmtIYd3",
        "outputId": "d56374ad-4073-4a8b-f414-941301b05cc9"
      },
      "execution_count": 2,
      "outputs": [
        {
          "output_type": "stream",
          "name": "stdout",
          "text": [
            "(10, 20, 30, 40)\n",
            "(10, 20, 30, 10, 20)\n",
            "<class 'int'> 10\n",
            "<class 'float'> 99.9\n",
            "<class 'str'> cse\n",
            "notfound\n",
            "3\n",
            "6\n",
            "(10, 20, 30, 40)\n"
          ]
        }
      ]
    },
    {
      "cell_type": "code",
      "source": [
        "#dictonary\n",
        "d={'name':'phyton','id':'101','branch':'cse'}\n",
        "print(d.keys())\n",
        "print(d.values())\n",
        "print(d.items())\n",
        "for key in d:\n",
        "    print(key)"
      ],
      "metadata": {
        "colab": {
          "base_uri": "https://localhost:8080/"
        },
        "id": "jfJ3omm1Idsd",
        "outputId": "994c6f49-db38-4653-9e58-a8a676b07669"
      },
      "execution_count": 3,
      "outputs": [
        {
          "output_type": "stream",
          "name": "stdout",
          "text": [
            "dict_keys(['name', 'id', 'branch'])\n",
            "dict_values(['phyton', '101', 'cse'])\n",
            "dict_items([('name', 'phyton'), ('id', '101'), ('branch', 'cse')])\n",
            "name\n",
            "id\n",
            "branch\n"
          ]
        }
      ]
    },
    {
      "cell_type": "code",
      "source": [
        "#sets\n",
        "s={1,2,3,4}\n",
        "print(s)\n",
        "s={1,2,3,2,3,2}\n",
        "print(s)\n",
        "for i in s:\n",
        "    print(i)\n",
        "if 2 in s:\n",
        "    print(\"found\")\n",
        "else:\n",
        "    print(\"not found\")\n",
        "a={1,2,3}\n",
        "b={3,4,5}\n",
        "print(\"union\",a|b)\n",
        "print(\"intersection\",a&b)\n",
        "print(\"difference\",a-b)\n",
        "print(\"symmetricdifference\",a^b)\n",
        "s={1,2,3}\n",
        "s.add(4)\n",
        "print(s)\n",
        "s.remove(2)\n",
        "print(s)\n",
        "s.clear()\n",
        "print(s)"
      ],
      "metadata": {
        "colab": {
          "base_uri": "https://localhost:8080/"
        },
        "id": "gj4jZpNDIseW",
        "outputId": "04551808-ef81-4617-ca4e-081935ccb0c4"
      },
      "execution_count": 4,
      "outputs": [
        {
          "output_type": "stream",
          "name": "stdout",
          "text": [
            "{1, 2, 3, 4}\n",
            "{1, 2, 3}\n",
            "1\n",
            "2\n",
            "3\n",
            "found\n",
            "union {1, 2, 3, 4, 5}\n",
            "intersection {3}\n",
            "difference {1, 2}\n",
            "symmetricdifference {1, 2, 4, 5}\n",
            "{1, 2, 3, 4}\n",
            "{1, 3, 4}\n",
            "set()\n"
          ]
        }
      ]
    }
  ]
}