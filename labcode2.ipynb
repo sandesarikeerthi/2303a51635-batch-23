{
  "nbformat": 4,
  "nbformat_minor": 0,
  "metadata": {
    "colab": {
      "provenance": [],
      "authorship_tag": "ABX9TyOgaOuCpuh+3pW6jeQYpU9y",
      "include_colab_link": true
    },
    "kernelspec": {
      "name": "python3",
      "display_name": "Python 3"
    },
    "language_info": {
      "name": "python"
    }
  },
  "cells": [
    {
      "cell_type": "markdown",
      "metadata": {
        "id": "view-in-github",
        "colab_type": "text"
      },
      "source": [
        "<a href=\"https://colab.research.google.com/github/sandesarikeerthi/2303a51635-batch-23/blob/main/labcode2.ipynb\" target=\"_parent\"><img src=\"https://colab.research.google.com/assets/colab-badge.svg\" alt=\"Open In Colab\"/></a>"
      ]
    },
    {
      "cell_type": "code",
      "source": [
        "fp = open(\"example.txt\",\"w\")\n",
        "fp.write(\"Hello, B.Tech students!\\n\")\n",
        "fp.write(\"This is file handling in python.\\n\")\n",
        "fp.write(\"sr university\")\n",
        "fp.write(\"keerthi\")\n",
        "fp.close()\n",
        "print(\"Data written successfully!\")"
      ],
      "metadata": {
        "colab": {
          "base_uri": "https://localhost:8080/"
        },
        "id": "EXKNFy1H6EFl",
        "outputId": "5243ae30-39a4-4cba-918e-0b7dfc199ead"
      },
      "execution_count": 13,
      "outputs": [
        {
          "output_type": "stream",
          "name": "stdout",
          "text": [
            "Data written successfully!\n"
          ]
        }
      ]
    },
    {
      "cell_type": "code",
      "source": [
        "#close file\n",
        "fp.close()\n",
        "print(\"Data written successfully!\")"
      ],
      "metadata": {
        "colab": {
          "base_uri": "https://localhost:8080/"
        },
        "id": "HBjRT2-Z7p3T",
        "outputId": "207d56fb-ea52-4a87-d9a5-0a808477f419"
      },
      "execution_count": 3,
      "outputs": [
        {
          "output_type": "stream",
          "name": "stdout",
          "text": [
            "Data written successfully!\n"
          ]
        }
      ]
    },
    {
      "cell_type": "code",
      "source": [
        "#Reading from a file\n",
        "#open file in read mode\n",
        "file=open(\"example.txt\",\"r\")\n"
      ],
      "metadata": {
        "id": "gi-_w4pY8Mkx"
      },
      "execution_count": 4,
      "outputs": []
    },
    {
      "cell_type": "code",
      "source": [
        "#Read entire content\n",
        "content = file.read()\n",
        "print(\"File Content:\\n\",content)"
      ],
      "metadata": {
        "colab": {
          "base_uri": "https://localhost:8080/"
        },
        "id": "E4nZj44F8a2H",
        "outputId": "1f6a8d1a-8e77-42ba-fb80-ea8eb617bce6"
      },
      "execution_count": 5,
      "outputs": [
        {
          "output_type": "stream",
          "name": "stdout",
          "text": [
            "File Content:\n",
            " Hello, B.Tech students!\n",
            "Welcome to Python Programming.\n",
            "This is file handling in python.\n",
            "sr universitykeerthi\n"
          ]
        }
      ]
    },
    {
      "cell_type": "code",
      "source": [
        "#close file\n",
        "file.close()"
      ],
      "metadata": {
        "id": "Mp3L8W6I80r4"
      },
      "execution_count": 6,
      "outputs": []
    },
    {
      "cell_type": "code",
      "source": [
        "#Reading Line by Line\n",
        "file = open(\"example.txt\",\"r\")\n"
      ],
      "metadata": {
        "id": "2StBPk8Z9Gs0"
      },
      "execution_count": 7,
      "outputs": []
    },
    {
      "cell_type": "code",
      "source": [
        "#Read first line\n",
        "line1=file.readline()\n",
        "print(\"First Line:\",line1)\n"
      ],
      "metadata": {
        "colab": {
          "base_uri": "https://localhost:8080/"
        },
        "id": "HCDHzdbd9ZMp",
        "outputId": "c875dcf7-a5dc-4da6-e29c-78f0932712b8"
      },
      "execution_count": 8,
      "outputs": [
        {
          "output_type": "stream",
          "name": "stdout",
          "text": [
            "First Line: Hello, B.Tech students!\n",
            "\n"
          ]
        }
      ]
    },
    {
      "cell_type": "code",
      "source": [
        "#read remaining lines\n",
        "line2=file.readline()\n",
        "print(\"Second Line:\",line2)"
      ],
      "metadata": {
        "colab": {
          "base_uri": "https://localhost:8080/"
        },
        "id": "akR2rASe9oIJ",
        "outputId": "e3638662-52e0-4967-b88a-66981180c47b"
      },
      "execution_count": 9,
      "outputs": [
        {
          "output_type": "stream",
          "name": "stdout",
          "text": [
            "Second Line: Welcome to Python Programming.\n",
            "\n"
          ]
        }
      ]
    },
    {
      "cell_type": "code",
      "source": [
        "line3=file.readline()\n",
        "print(\"Line:\",line3)\n",
        "file.close()"
      ],
      "metadata": {
        "colab": {
          "base_uri": "https://localhost:8080/"
        },
        "id": "MZW36PlQ97yG",
        "outputId": "92a8c971-3015-4fed-df41-32fd586b0514"
      },
      "execution_count": 10,
      "outputs": [
        {
          "output_type": "stream",
          "name": "stdout",
          "text": [
            "Line: This is file handling in python.\n",
            "\n"
          ]
        }
      ]
    },
    {
      "cell_type": "code",
      "source": [
        "#reading All Line into a List\n",
        "file=open(\"example.txt\",\"r\")\n",
        "lines=file.readlines()\n",
        "print(\"All Lines as List:\",lines)\n",
        "file.close()"
      ],
      "metadata": {
        "colab": {
          "base_uri": "https://localhost:8080/"
        },
        "id": "OUlVXCef-3Iu",
        "outputId": "c2b9126a-0541-4c4b-8bb3-74edd15c2d93"
      },
      "execution_count": 14,
      "outputs": [
        {
          "output_type": "stream",
          "name": "stdout",
          "text": [
            "All Lines as List: ['Hello, B.Tech students!\\n', 'This is file handling in python.\\n', 'sr universitykeerthi']\n"
          ]
        }
      ]
    },
    {
      "cell_type": "code",
      "source": [
        "#Appending Data to an Existing File\n",
        "file=open(\"example.txt\",\"a\")\n",
        "file.write(\"Appending new data...\\n\")\n",
        "file.close()"
      ],
      "metadata": {
        "id": "V1HTeXCS_Q5I"
      },
      "execution_count": 15,
      "outputs": []
    },
    {
      "cell_type": "code",
      "source": [
        "#using with statement (best practice)\n",
        "#The with statement automatically closes to\n",
        "with open(\"example.txt\",\"r\")as fp:\n",
        "  data=fp.read()\n",
        "  print(data)"
      ],
      "metadata": {
        "colab": {
          "base_uri": "https://localhost:8080/"
        },
        "id": "rZvC5ElrAPoQ",
        "outputId": "fe34c792-d47a-4835-ef5d-3624eb4dc3fb"
      },
      "execution_count": 17,
      "outputs": [
        {
          "output_type": "stream",
          "name": "stdout",
          "text": [
            "Hello, B.Tech students!\n",
            "This is file handling in python.\n",
            "sr universitykeerthiAppending new data...\n",
            "\n"
          ]
        }
      ]
    },
    {
      "cell_type": "code",
      "source": [
        "#working with csv file\n",
        "import csv\n",
        "#writing to csv\n",
        "with open(\"data.csv\",\"w\",newline='')as fp:\n",
        "  wr=csv.writer(fp)\n",
        "  wr.writerows([[\"Name\",\"Age\",\"course\"],[\"aaa\",21,\"CSE\"],[\"bbb\",20,\"ECE\"]])"
      ],
      "metadata": {
        "id": "nvsrdr5eA_My"
      },
      "execution_count": 20,
      "outputs": []
    },
    {
      "cell_type": "code",
      "source": [
        "#reading fron csv\n",
        "with open(\"data.csv\",\"r\")as file:\n",
        "  re=csv.reader(file)\n",
        "  for row in re:\n",
        "    print(row)"
      ],
      "metadata": {
        "colab": {
          "base_uri": "https://localhost:8080/"
        },
        "id": "dzycb7m0CuH3",
        "outputId": "caa832a8-440e-479d-9837-6b7572cf0951"
      },
      "execution_count": 21,
      "outputs": [
        {
          "output_type": "stream",
          "name": "stdout",
          "text": [
            "['Name', 'Age', 'course']\n",
            "['aaa', '21', 'CSE']\n",
            "['bbb', '20', 'ECE']\n"
          ]
        }
      ]
    },
    {
      "cell_type": "code",
      "source": [
        "import numpy as np\n",
        "arr1=np.array([1,2,3,4])\n",
        "print(\"1DArray:\",arr1)"
      ],
      "metadata": {
        "colab": {
          "base_uri": "https://localhost:8080/"
        },
        "id": "fcqNEvLpFKpr",
        "outputId": "f4f7d282-ab2c-4522-d950-d035d4a21e1a"
      },
      "execution_count": 22,
      "outputs": [
        {
          "output_type": "stream",
          "name": "stdout",
          "text": [
            "1DArray: [1 2 3 4]\n"
          ]
        }
      ]
    },
    {
      "cell_type": "code",
      "source": [
        "arr2=np.array([[1,2,3,],[4, 5,6]])\n",
        "print(\"2DArray:\",arr2)"
      ],
      "metadata": {
        "colab": {
          "base_uri": "https://localhost:8080/"
        },
        "id": "2oecYJ7NFiME",
        "outputId": "ee0b033b-0a65-47ba-ebd9-1bd5df381767"
      },
      "execution_count": 23,
      "outputs": [
        {
          "output_type": "stream",
          "name": "stdout",
          "text": [
            "2DArray: [[1 2 3]\n",
            " [4 5 6]]\n"
          ]
        }
      ]
    },
    {
      "cell_type": "code",
      "source": [
        "zero_arr=np.zeros((3,3))\n",
        "print(\"Zero Array:\\n\",zero_arr)"
      ],
      "metadata": {
        "colab": {
          "base_uri": "https://localhost:8080/"
        },
        "id": "pO0p9lYnF0iP",
        "outputId": "a50136ad-867f-4e54-a76f-0be4a355e327"
      },
      "execution_count": 24,
      "outputs": [
        {
          "output_type": "stream",
          "name": "stdout",
          "text": [
            "Zero Array:\n",
            " [[0. 0. 0.]\n",
            " [0. 0. 0.]\n",
            " [0. 0. 0.]]\n"
          ]
        }
      ]
    },
    {
      "cell_type": "code",
      "source": [
        "ones_arr=np.ones((3,3))\n",
        "print(\"Ones Array:\\n\",ones_arr)"
      ],
      "metadata": {
        "colab": {
          "base_uri": "https://localhost:8080/"
        },
        "id": "BNkTgVBbF_np",
        "outputId": "b9f52e63-b99f-467f-a298-0b411814aa29"
      },
      "execution_count": 25,
      "outputs": [
        {
          "output_type": "stream",
          "name": "stdout",
          "text": [
            "Ones Array:\n",
            " [[1. 1. 1.]\n",
            " [1. 1. 1.]\n",
            " [1. 1. 1.]]\n"
          ]
        }
      ]
    },
    {
      "cell_type": "code",
      "source": [
        "#range of number\n",
        "range_arr=np.arange(0,10,2)\n",
        "#start,stop,step\n",
        "print(\"range array:\",range_arr)\n",
        "#Random Array\n",
        "rand_arr=np.random.rand(3,3)\n",
        "print(\"Random array:\\n\",rand_arr)"
      ],
      "metadata": {
        "colab": {
          "base_uri": "https://localhost:8080/"
        },
        "id": "k_32WzgTGcJ9",
        "outputId": "99a09916-6193-440b-b292-1059d399fe64"
      },
      "execution_count": 28,
      "outputs": [
        {
          "output_type": "stream",
          "name": "stdout",
          "text": [
            "range array: [0 2 4 6 8]\n",
            "Random array:\n",
            " [[0.23996807 0.34542632 0.7539581 ]\n",
            " [0.47243013 0.24036551 0.86892566]\n",
            " [0.92396578 0.99322457 0.12629312]]\n"
          ]
        }
      ]
    },
    {
      "cell_type": "code",
      "source": [
        "arr=np.array([[1,2,3],[4,5,6]])\n",
        "print(\"shape:\",arr.shape)\n",
        "print(\"Dimention:\",arr.ndim)\n",
        "print(\"Data Type:\",arr.dtype)\n",
        "print(\"Size:\",arr.size)\n",
        "print(\"ItemSize:\",arr.itemsize)"
      ],
      "metadata": {
        "colab": {
          "base_uri": "https://localhost:8080/"
        },
        "id": "GSpXprtyGhU1",
        "outputId": "fcfa874a-fb40-44fe-d4a8-c8292fb226e8"
      },
      "execution_count": 31,
      "outputs": [
        {
          "output_type": "stream",
          "name": "stdout",
          "text": [
            "shape: (2, 3)\n",
            "Dimention: 2\n",
            "Data Type: int64\n",
            "Size: 6\n",
            "ItemSize: 8\n"
          ]
        }
      ]
    },
    {
      "cell_type": "code",
      "source": [
        "#array indexing and slicing\n",
        "arr=np.array([10,20,30,40,50])\n",
        "print(\"First element:\",arr[-1])\n",
        "print(\"Last element:\",arr[1])\n",
        "print(\"slice[1:4]:\",arr[1:4])\n",
        "print(\"Every second element:\",arr[1:2])\n",
        "#2D indexing\n",
        "arr2=np.array([[1,2,3],[4,5,6]])\n",
        "print(\"Element at row 1, col2:\",arr2[0,1])\n",
        "print(\"second row:\",arr2[1,:])\n",
        "print(\"second col:\",arr2[:,1])"
      ],
      "metadata": {
        "colab": {
          "base_uri": "https://localhost:8080/"
        },
        "id": "KHFcpPWoH4CF",
        "outputId": "74c4346d-23cd-4f81-aa13-6922d4107709"
      },
      "execution_count": 32,
      "outputs": [
        {
          "output_type": "stream",
          "name": "stdout",
          "text": [
            "First element: 50\n",
            "Last element: 20\n",
            "slice[1:4]: [20 30 40]\n",
            "Every second element: [20]\n",
            "Element at row 1, col2: 2\n",
            "second row: [4 5 6]\n",
            "second col: [2 5]\n"
          ]
        }
      ]
    },
    {
      "cell_type": "code",
      "source": [
        "#aggregat functions\n",
        "arr=np.array([[1,2,3],[4,5,6]])\n",
        "print(\"sum of all elements:\",np.sum(arr))\n",
        "print(\"minimum value:\",np.min(arr))\n",
        "print(\"maximum value:\",np.max(arr))\n",
        "print(\"mean value:\",np.mean(arr))\n",
        "print(\"median value:\",np.median(arr))\n",
        "print(\"standard deviation:\",np.std(arr))\n",
        "print(\"sum along axis 0:\",np.sum(arr,axis=0))\n",
        "print(\"sum along axis 1:\",np.sum(arr,axis=1))"
      ],
      "metadata": {
        "colab": {
          "base_uri": "https://localhost:8080/"
        },
        "id": "Aae9t2bcQxbi",
        "outputId": "c42602b7-7a46-403f-ada4-4abb95ec9ea8"
      },
      "execution_count": 33,
      "outputs": [
        {
          "output_type": "stream",
          "name": "stdout",
          "text": [
            "sum of all elements: 21\n",
            "minimum value: 1\n",
            "maximum value: 6\n",
            "mean value: 3.5\n",
            "median value: 3.5\n",
            "standard deviation: 1.707825127659933\n",
            "sum along axis 0: [5 7 9]\n",
            "sum along axis 1: [ 6 15]\n"
          ]
        }
      ]
    },
    {
      "cell_type": "code",
      "source": [
        "#Mathemaitcal Functions\n",
        "arr = np.array([1,2,3])\n",
        "print(\"sin\",np.sin(arr))\n",
        "print(\"cos\",np.cos(arr))\n",
        "print(\"tan\",np.tan(arr))\n",
        "print(\"log\",np.log(arr))\n",
        "print(\"exp\",np.exp(arr))"
      ],
      "metadata": {
        "colab": {
          "base_uri": "https://localhost:8080/"
        },
        "id": "oJ1s027KSLYG",
        "outputId": "91198517-e422-4ab6-85b4-28e4ffc91485"
      },
      "execution_count": 34,
      "outputs": [
        {
          "output_type": "stream",
          "name": "stdout",
          "text": [
            "sin [0.84147098 0.90929743 0.14112001]\n",
            "cos [ 0.54030231 -0.41614684 -0.9899925 ]\n",
            "tan [ 1.55740772 -2.18503986 -0.14254654]\n",
            "log [0.         0.69314718 1.09861229]\n",
            "exp [ 2.71828183  7.3890561  20.08553692]\n"
          ]
        }
      ]
    },
    {
      "cell_type": "code",
      "source": [
        "#broadcasting\n",
        "a=np.array((1,2,3))\n",
        "b=5\n",
        "print(\"Ass scalar to array:\",a+b)\n",
        "c=np.array([[1],[2],[3]])\n",
        "d=np.array((4,5,6))\n",
        "print(\"Ass array to array:\",c+d)"
      ],
      "metadata": {
        "colab": {
          "base_uri": "https://localhost:8080/"
        },
        "id": "vdS-vu8wS_PX",
        "outputId": "0ea03baf-5881-437c-de38-56ba2e35d6b0"
      },
      "execution_count": 36,
      "outputs": [
        {
          "output_type": "stream",
          "name": "stdout",
          "text": [
            "Ass scalar to array: [6 7 8]\n",
            "Ass array to array: [[5 6 7]\n",
            " [6 7 8]\n",
            " [7 8 9]]\n"
          ]
        }
      ]
    },
    {
      "cell_type": "code",
      "source": [
        "#matrix operations\n",
        "a=np.array([[1,2],[3,4]])\n",
        "b=np.array([[5,6],[7,8]])\n",
        "print(\"matrix multipication:\\n\",np.dot(a,b))\n",
        "print(\"transpose:\\n\",a.T)\n",
        "print(\"inverse:\\n\",np.linalg.inv(a))\n",
        "print(\"determinant:\\n\",np.linalg.det(a))"
      ],
      "metadata": {
        "colab": {
          "base_uri": "https://localhost:8080/"
        },
        "id": "onf3TygkUQKm",
        "outputId": "9e20771c-3283-4804-a07e-fc38e36632aa"
      },
      "execution_count": 37,
      "outputs": [
        {
          "output_type": "stream",
          "name": "stdout",
          "text": [
            "matrix multipication:\n",
            " [[19 22]\n",
            " [43 50]]\n",
            "transpose:\n",
            " [[1 3]\n",
            " [2 4]]\n",
            "inverse:\n",
            " [[-2.   1. ]\n",
            " [ 1.5 -0.5]]\n",
            "determinant:\n",
            " -2.0000000000000004\n"
          ]
        }
      ]
    },
    {
      "cell_type": "code",
      "source": [
        "#sample program studeent marks\n",
        "import numpy as np\n",
        "# Marks of students in 3 subjects\n",
        "marks = np.array([\n",
        "[85, 90, 88],\n",
        "[78, 81, 85],\n",
        "[92, 89, 95]])\n",
        "print(\"Average marks per student:\", np.mean(marks, axis=1))\n",
        "print(\"Average marks per subject:\", np.mean(marks, axis=0))\n",
        "print(\"Highest marks in each subject:\", np.max(marks, axis=0))\n",
        "print(\"Lowest marks in each subject:\", np.min(marks, axis=0))"
      ],
      "metadata": {
        "colab": {
          "base_uri": "https://localhost:8080/"
        },
        "id": "ll2ZhqnrWrho",
        "outputId": "b5741ad7-c6e8-4dc7-f493-b7ae49ec4027"
      },
      "execution_count": 39,
      "outputs": [
        {
          "output_type": "stream",
          "name": "stdout",
          "text": [
            "Average marks per student: [87.66666667 81.33333333 92.        ]\n",
            "Average marks per subject: [85.         86.66666667 89.33333333]\n",
            "Highest marks in each subject: [92 90 95]\n",
            "Lowest marks in each subject: [78 81 85]\n"
          ]
        }
      ]
    }
  ]
}